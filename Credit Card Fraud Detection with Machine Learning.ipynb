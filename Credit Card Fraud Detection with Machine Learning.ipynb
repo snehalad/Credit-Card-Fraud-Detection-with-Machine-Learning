{
 "cells": [
  {
   "cell_type": "code",
   "execution_count": 1,
   "id": "040ec02e",
   "metadata": {},
   "outputs": [],
   "source": [
    "import pandas as pd \n",
    "from sklearn.model_selection import train_test_split\n",
    "from sklearn.tree import DecisionTreeClassifier\n",
    "from sklearn.neighbors import KNeighborsClassifier\n",
    "from xgboost import XGBClassifier\n",
    "from sklearn.linear_model import LogisticRegression\n",
    "from sklearn.metrics import accuracy_score, classification_report, f1_score, confusion_matrix\n",
    "from sklearn.preprocessing import StandardScaler\n",
    "import matplotlib.pyplot as plt"
   ]
  },
  {
   "cell_type": "markdown",
   "id": "8ec9506a",
   "metadata": {},
   "source": [
    "### Data Preprocessing"
   ]
  },
  {
   "cell_type": "code",
   "execution_count": 2,
   "id": "fc4e2c69",
   "metadata": {},
   "outputs": [
    {
     "data": {
      "text/html": [
       "<div>\n",
       "<style scoped>\n",
       "    .dataframe tbody tr th:only-of-type {\n",
       "        vertical-align: middle;\n",
       "    }\n",
       "\n",
       "    .dataframe tbody tr th {\n",
       "        vertical-align: top;\n",
       "    }\n",
       "\n",
       "    .dataframe thead th {\n",
       "        text-align: right;\n",
       "    }\n",
       "</style>\n",
       "<table border=\"1\" class=\"dataframe\">\n",
       "  <thead>\n",
       "    <tr style=\"text-align: right;\">\n",
       "      <th></th>\n",
       "      <th>Time</th>\n",
       "      <th>V1</th>\n",
       "      <th>V2</th>\n",
       "      <th>V3</th>\n",
       "      <th>V4</th>\n",
       "      <th>V5</th>\n",
       "      <th>V6</th>\n",
       "      <th>V7</th>\n",
       "      <th>V8</th>\n",
       "      <th>V9</th>\n",
       "      <th>...</th>\n",
       "      <th>V21</th>\n",
       "      <th>V22</th>\n",
       "      <th>V23</th>\n",
       "      <th>V24</th>\n",
       "      <th>V25</th>\n",
       "      <th>V26</th>\n",
       "      <th>V27</th>\n",
       "      <th>V28</th>\n",
       "      <th>Amount</th>\n",
       "      <th>Class</th>\n",
       "    </tr>\n",
       "  </thead>\n",
       "  <tbody>\n",
       "    <tr>\n",
       "      <th>0</th>\n",
       "      <td>0.0</td>\n",
       "      <td>-1.359807</td>\n",
       "      <td>-0.072781</td>\n",
       "      <td>2.536347</td>\n",
       "      <td>1.378155</td>\n",
       "      <td>-0.338321</td>\n",
       "      <td>0.462388</td>\n",
       "      <td>0.239599</td>\n",
       "      <td>0.098698</td>\n",
       "      <td>0.363787</td>\n",
       "      <td>...</td>\n",
       "      <td>-0.018307</td>\n",
       "      <td>0.277838</td>\n",
       "      <td>-0.110474</td>\n",
       "      <td>0.066928</td>\n",
       "      <td>0.128539</td>\n",
       "      <td>-0.189115</td>\n",
       "      <td>0.133558</td>\n",
       "      <td>-0.021053</td>\n",
       "      <td>149.62</td>\n",
       "      <td>0</td>\n",
       "    </tr>\n",
       "    <tr>\n",
       "      <th>1</th>\n",
       "      <td>0.0</td>\n",
       "      <td>1.191857</td>\n",
       "      <td>0.266151</td>\n",
       "      <td>0.166480</td>\n",
       "      <td>0.448154</td>\n",
       "      <td>0.060018</td>\n",
       "      <td>-0.082361</td>\n",
       "      <td>-0.078803</td>\n",
       "      <td>0.085102</td>\n",
       "      <td>-0.255425</td>\n",
       "      <td>...</td>\n",
       "      <td>-0.225775</td>\n",
       "      <td>-0.638672</td>\n",
       "      <td>0.101288</td>\n",
       "      <td>-0.339846</td>\n",
       "      <td>0.167170</td>\n",
       "      <td>0.125895</td>\n",
       "      <td>-0.008983</td>\n",
       "      <td>0.014724</td>\n",
       "      <td>2.69</td>\n",
       "      <td>0</td>\n",
       "    </tr>\n",
       "    <tr>\n",
       "      <th>2</th>\n",
       "      <td>1.0</td>\n",
       "      <td>-1.358354</td>\n",
       "      <td>-1.340163</td>\n",
       "      <td>1.773209</td>\n",
       "      <td>0.379780</td>\n",
       "      <td>-0.503198</td>\n",
       "      <td>1.800499</td>\n",
       "      <td>0.791461</td>\n",
       "      <td>0.247676</td>\n",
       "      <td>-1.514654</td>\n",
       "      <td>...</td>\n",
       "      <td>0.247998</td>\n",
       "      <td>0.771679</td>\n",
       "      <td>0.909412</td>\n",
       "      <td>-0.689281</td>\n",
       "      <td>-0.327642</td>\n",
       "      <td>-0.139097</td>\n",
       "      <td>-0.055353</td>\n",
       "      <td>-0.059752</td>\n",
       "      <td>378.66</td>\n",
       "      <td>0</td>\n",
       "    </tr>\n",
       "    <tr>\n",
       "      <th>3</th>\n",
       "      <td>1.0</td>\n",
       "      <td>-0.966272</td>\n",
       "      <td>-0.185226</td>\n",
       "      <td>1.792993</td>\n",
       "      <td>-0.863291</td>\n",
       "      <td>-0.010309</td>\n",
       "      <td>1.247203</td>\n",
       "      <td>0.237609</td>\n",
       "      <td>0.377436</td>\n",
       "      <td>-1.387024</td>\n",
       "      <td>...</td>\n",
       "      <td>-0.108300</td>\n",
       "      <td>0.005274</td>\n",
       "      <td>-0.190321</td>\n",
       "      <td>-1.175575</td>\n",
       "      <td>0.647376</td>\n",
       "      <td>-0.221929</td>\n",
       "      <td>0.062723</td>\n",
       "      <td>0.061458</td>\n",
       "      <td>123.50</td>\n",
       "      <td>0</td>\n",
       "    </tr>\n",
       "    <tr>\n",
       "      <th>4</th>\n",
       "      <td>2.0</td>\n",
       "      <td>-1.158233</td>\n",
       "      <td>0.877737</td>\n",
       "      <td>1.548718</td>\n",
       "      <td>0.403034</td>\n",
       "      <td>-0.407193</td>\n",
       "      <td>0.095921</td>\n",
       "      <td>0.592941</td>\n",
       "      <td>-0.270533</td>\n",
       "      <td>0.817739</td>\n",
       "      <td>...</td>\n",
       "      <td>-0.009431</td>\n",
       "      <td>0.798278</td>\n",
       "      <td>-0.137458</td>\n",
       "      <td>0.141267</td>\n",
       "      <td>-0.206010</td>\n",
       "      <td>0.502292</td>\n",
       "      <td>0.219422</td>\n",
       "      <td>0.215153</td>\n",
       "      <td>69.99</td>\n",
       "      <td>0</td>\n",
       "    </tr>\n",
       "  </tbody>\n",
       "</table>\n",
       "<p>5 rows × 31 columns</p>\n",
       "</div>"
      ],
      "text/plain": [
       "   Time        V1        V2        V3        V4        V5        V6        V7  \\\n",
       "0   0.0 -1.359807 -0.072781  2.536347  1.378155 -0.338321  0.462388  0.239599   \n",
       "1   0.0  1.191857  0.266151  0.166480  0.448154  0.060018 -0.082361 -0.078803   \n",
       "2   1.0 -1.358354 -1.340163  1.773209  0.379780 -0.503198  1.800499  0.791461   \n",
       "3   1.0 -0.966272 -0.185226  1.792993 -0.863291 -0.010309  1.247203  0.237609   \n",
       "4   2.0 -1.158233  0.877737  1.548718  0.403034 -0.407193  0.095921  0.592941   \n",
       "\n",
       "         V8        V9  ...       V21       V22       V23       V24       V25  \\\n",
       "0  0.098698  0.363787  ... -0.018307  0.277838 -0.110474  0.066928  0.128539   \n",
       "1  0.085102 -0.255425  ... -0.225775 -0.638672  0.101288 -0.339846  0.167170   \n",
       "2  0.247676 -1.514654  ...  0.247998  0.771679  0.909412 -0.689281 -0.327642   \n",
       "3  0.377436 -1.387024  ... -0.108300  0.005274 -0.190321 -1.175575  0.647376   \n",
       "4 -0.270533  0.817739  ... -0.009431  0.798278 -0.137458  0.141267 -0.206010   \n",
       "\n",
       "        V26       V27       V28  Amount  Class  \n",
       "0 -0.189115  0.133558 -0.021053  149.62      0  \n",
       "1  0.125895 -0.008983  0.014724    2.69      0  \n",
       "2 -0.139097 -0.055353 -0.059752  378.66      0  \n",
       "3 -0.221929  0.062723  0.061458  123.50      0  \n",
       "4  0.502292  0.219422  0.215153   69.99      0  \n",
       "\n",
       "[5 rows x 31 columns]"
      ]
     },
     "execution_count": 2,
     "metadata": {},
     "output_type": "execute_result"
    }
   ],
   "source": [
    "# Download the data set\n",
    "data = pd.read_csv('creditcard.csv')\n",
    "data.head()"
   ]
  },
  {
   "cell_type": "code",
   "execution_count": 3,
   "id": "b65d26fc",
   "metadata": {},
   "outputs": [
    {
     "data": {
      "text/plain": [
       "(284807, 31)"
      ]
     },
     "execution_count": 3,
     "metadata": {},
     "output_type": "execute_result"
    }
   ],
   "source": [
    "data.shape"
   ]
  },
  {
   "cell_type": "code",
   "execution_count": 4,
   "id": "8859eefd",
   "metadata": {},
   "outputs": [
    {
     "data": {
      "text/plain": [
       "False"
      ]
     },
     "execution_count": 4,
     "metadata": {},
     "output_type": "execute_result"
    }
   ],
   "source": [
    "data.isnull().values.any()"
   ]
  },
  {
   "cell_type": "code",
   "execution_count": 5,
   "id": "d9a3a8b2",
   "metadata": {},
   "outputs": [
    {
     "data": {
      "text/plain": [
       "Index(['Time', 'V1', 'V2', 'V3', 'V4', 'V5', 'V6', 'V7', 'V8', 'V9', 'V10',\n",
       "       'V11', 'V12', 'V13', 'V14', 'V15', 'V16', 'V17', 'V18', 'V19', 'V20',\n",
       "       'V21', 'V22', 'V23', 'V24', 'V25', 'V26', 'V27', 'V28', 'Amount',\n",
       "       'Class'],\n",
       "      dtype='object')"
      ]
     },
     "execution_count": 5,
     "metadata": {},
     "output_type": "execute_result"
    }
   ],
   "source": [
    "data.columns"
   ]
  },
  {
   "cell_type": "markdown",
   "id": "448db563",
   "metadata": {},
   "source": [
    "#### Understand diffrence between count of fraud and non-fraud Transactions"
   ]
  },
  {
   "cell_type": "code",
   "execution_count": 28,
   "id": "e0d8f46d",
   "metadata": {},
   "outputs": [
    {
     "data": {
      "text/plain": [
       "Text(0, 0.5, 'Frequency')"
      ]
     },
     "execution_count": 28,
     "metadata": {},
     "output_type": "execute_result"
    },
    {
     "data": {
      "image/png": "[encoded data removed]",
      "text/plain": [
       "<Figure size 432x288 with 1 Axes>"
      ]
     },
     "metadata": {
      "needs_background": "light"
     },
     "output_type": "display_data"
    }
   ],
   "source": [
    "# get count of fraud and non-fraud\n",
    "count_classes = pd.value_counts(data['Class'], sort=True)\n",
    "count_classes.plot(kind='bar', rot=0)\n",
    "plt.title(\"Transaction class distribution\")\n",
    "plt.xticks(range(2), [\"Non-Fraud\", \"Fraud\"])\n",
    "plt.xlabel(\"Class\")\n",
    "plt.ylabel(\"Frequency\")"
   ]
  },
  {
   "cell_type": "markdown",
   "id": "619bb7cd",
   "metadata": {},
   "source": [
    "=> As we can see our data is highly imbalanced"
   ]
  },
  {
   "cell_type": "markdown",
   "id": "946c54d0",
   "metadata": {},
   "source": [
    "<b> Checking Count of fraud and non fraud"
   ]
  },
  {
   "cell_type": "code",
   "execution_count": 7,
   "id": "9d73091a",
   "metadata": {},
   "outputs": [
    {
     "data": {
      "text/plain": [
       "0    284315\n",
       "1       492\n",
       "Name: Class, dtype: int64"
      ]
     },
     "execution_count": 7,
     "metadata": {},
     "output_type": "execute_result"
    }
   ],
   "source": [
    "counts = pd.value_counts(data['Class'])\n",
    "counts"
   ]
  },
  {
   "cell_type": "code",
   "execution_count": 8,
   "id": "86fabe30",
   "metadata": {},
   "outputs": [
    {
     "name": "stdout",
     "output_type": "stream",
     "text": [
      "Total Transactions : 284807\n",
      "Total Fraud Transactions: 492\n",
      "Total Sucessful Transactions: 284315\n",
      "Percentage of Fraud Transactions: 0.17\n"
     ]
    }
   ],
   "source": [
    "# Understaning Data\n",
    "total_transactions = len(data)\n",
    "fraud = len(data[data.Class==1])\n",
    "normal = len(data[data.Class==0])\n",
    "fraud_per = round(fraud/normal*100, 2)\n",
    "print(\"Total Transactions :\", total_transactions)\n",
    "print(\"Total Fraud Transactions:\", fraud)\n",
    "print(\"Total Sucessful Transactions:\", normal)\n",
    "print(\"Percentage of Fraud Transactions:\", fraud_per)"
   ]
  },
  {
   "cell_type": "markdown",
   "id": "9c8fd8f7",
   "metadata": {},
   "source": [
    "#### Plotting time of transaction to check for correlations with Fraud and Non-fraud"
   ]
  },
  {
   "cell_type": "code",
   "execution_count": 10,
   "id": "933946a7",
   "metadata": {},
   "outputs": [],
   "source": [
    "frauds = data[data.Class == 1]\n",
    "normal = data[data.Class == 0]"
   ]
  },
  {
   "cell_type": "code",
   "execution_count": 11,
   "id": "4e6d41c2",
   "metadata": {},
   "outputs": [
    {
     "data": {
      "image/png": "[encoded data removed]",
      "text/plain": [
       "<Figure size 432x288 with 2 Axes>"
      ]
     },
     "metadata": {
      "needs_background": "light"
     },
     "output_type": "display_data"
    }
   ],
   "source": [
    "# plot a graph \n",
    "f, (ax1, ax2) = plt.subplots(2, 1, sharex=True)\n",
    "f.suptitle('Time of transaction vs Amount by class')\n",
    "\n",
    "ax1.scatter(frauds.Time, frauds.Amount)\n",
    "ax1.set_title('Fraud')\n",
    "\n",
    "ax2.scatter(normal.Time, normal.Amount)\n",
    "ax2.set_title('Normal')\n",
    "\n",
    "plt.xlabel('Time (in Seconds)')\n",
    "plt.ylabel('Amount')\n",
    "plt.show()"
   ]
  },
  {
   "cell_type": "markdown",
   "id": "cf9b653e",
   "metadata": {},
   "source": [
    "##### As we can observe here there is no coreelation between time and amount. so we simply going to drop Time column here"
   ]
  },
  {
   "cell_type": "code",
   "execution_count": 12,
   "id": "68ca54b6",
   "metadata": {},
   "outputs": [],
   "source": [
    "# this dosen't impact on our data\n",
    "data.drop(['Time'], axis=1, inplace=True)"
   ]
  },
  {
   "cell_type": "markdown",
   "id": "d4af51a0",
   "metadata": {},
   "source": [
    "#### Here, We can observe that the difference between min and max amount is huge. so it's a good practice to scale this variable."
   ]
  },
  {
   "cell_type": "code",
   "execution_count": 13,
   "id": "fac95fb3",
   "metadata": {},
   "outputs": [
    {
     "data": {
      "text/plain": [
       "(0.0, 25691.16)"
      ]
     },
     "execution_count": 13,
     "metadata": {},
     "output_type": "execute_result"
    }
   ],
   "source": [
    "min(data.Amount), max(data.Amount)"
   ]
  },
  {
   "cell_type": "code",
   "execution_count": 30,
   "id": "faa561c1",
   "metadata": {},
   "outputs": [
    {
     "data": {
      "text/plain": [
       "0         0.233169\n",
       "1        -0.347092\n",
       "2         1.137702\n",
       "3         0.130015\n",
       "4        -0.081308\n",
       "            ...   \n",
       "284802   -0.354675\n",
       "284803   -0.259814\n",
       "284804   -0.089641\n",
       "284805   -0.318223\n",
       "284806    0.499269\n",
       "Name: Amount, Length: 275663, dtype: float64"
      ]
     },
     "execution_count": 30,
     "metadata": {},
     "output_type": "execute_result"
    }
   ],
   "source": [
    "sc = StandardScaler()\n",
    "amount = data['Amount'].values\n",
    "data['Amount']= sc.fit_transform(amount.reshape(-1, 1))\n",
    "data[\"Amount\"]"
   ]
  },
  {
   "cell_type": "code",
   "execution_count": 15,
   "id": "c2c4c83d",
   "metadata": {},
   "outputs": [
    {
     "data": {
      "text/plain": [
       "(275663, 30)"
      ]
     },
     "execution_count": 15,
     "metadata": {},
     "output_type": "execute_result"
    }
   ],
   "source": [
    "# drop duplicates \n",
    "data.drop_duplicates(inplace=True)\n",
    "data.shape"
   ]
  },
  {
   "cell_type": "markdown",
   "id": "679f8a96",
   "metadata": {},
   "source": [
    "### Selecting Prediction Target"
   ]
  },
  {
   "cell_type": "code",
   "execution_count": 29,
   "id": "1afa76dc",
   "metadata": {},
   "outputs": [],
   "source": [
    "X = data.drop(['Class'], axis=1).values\n",
    "y = data['Class'].values"
   ]
  },
  {
   "cell_type": "markdown",
   "id": "dfbff699",
   "metadata": {},
   "source": [
    "<b> Spliting data into test and train"
   ]
  },
  {
   "cell_type": "code",
   "execution_count": 17,
   "id": "2318b182",
   "metadata": {},
   "outputs": [],
   "source": [
    "X_train, X_test, y_train, y_test = train_test_split(X, y, test_size=0.25, random_state=1)"
   ]
  },
  {
   "cell_type": "markdown",
   "id": "6c2fcafb",
   "metadata": {},
   "source": [
    "### Create Model"
   ]
  },
  {
   "cell_type": "markdown",
   "id": "21946b52",
   "metadata": {},
   "source": [
    "| DecisionTreeClassifier Model"
   ]
  },
  {
   "cell_type": "code",
   "execution_count": 18,
   "id": "c60c3b1f",
   "metadata": {},
   "outputs": [],
   "source": [
    "DT = DecisionTreeClassifier(max_depth=4, criterion='entropy')\n",
    "\n",
    "DT.fit(X_train, y_train)\n",
    "DT_pred = DT.predict(X_test)"
   ]
  },
  {
   "cell_type": "code",
   "execution_count": 19,
   "id": "21c90cc2",
   "metadata": {},
   "outputs": [
    {
     "name": "stdout",
     "output_type": "stream",
     "text": [
      "              precision    recall  f1-score   support\n",
      "\n",
      "           0       1.00      1.00      1.00     68788\n",
      "           1       0.83      0.70      0.76       128\n",
      "\n",
      "    accuracy                           1.00     68916\n",
      "   macro avg       0.92      0.85      0.88     68916\n",
      "weighted avg       1.00      1.00      1.00     68916\n",
      "\n",
      "Accuracy Score For Decision Tree Model is  0.9991729061466132\n",
      "F1 Score For Decision Tree Model is  0.7574468085106382\n"
     ]
    }
   ],
   "source": [
    "print(classification_report(y_test, DT_pred))\n",
    "print(\"Accuracy Score For Decision Tree Model is \", accuracy_score(y_test, DT_pred))\n",
    "print(\"F1 Score For Decision Tree Model is \", f1_score(y_test, DT_pred))"
   ]
  },
  {
   "cell_type": "markdown",
   "id": "90e9695d",
   "metadata": {},
   "source": [
    " | XGBoot Classifier"
   ]
  },
  {
   "cell_type": "code",
   "execution_count": 20,
   "id": "d7258b9e",
   "metadata": {},
   "outputs": [],
   "source": [
    "xgb = XGBClassifier(max_depth=4)\n",
    "\n",
    "xgb.fit(X_train, y_train)\n",
    "xgb_pre = xgb.predict(X_test)"
   ]
  },
  {
   "cell_type": "code",
   "execution_count": 21,
   "id": "bf794e3a",
   "metadata": {},
   "outputs": [
    {
     "name": "stdout",
     "output_type": "stream",
     "text": [
      "              precision    recall  f1-score   support\n",
      "\n",
      "           0       1.00      1.00      1.00     68788\n",
      "           1       0.98      0.75      0.85       128\n",
      "\n",
      "    accuracy                           1.00     68916\n",
      "   macro avg       0.99      0.87      0.92     68916\n",
      "weighted avg       1.00      1.00      1.00     68916\n",
      "\n",
      "Accuracy Score For XGBClassifier Model is  0.999506645771664\n",
      "F1 Score For XGBClassifier Model is  0.8495575221238937\n"
     ]
    }
   ],
   "source": [
    "print(classification_report(y_test, xgb_pre))\n",
    "print(\"Accuracy Score For XGBClassifier Model is \", accuracy_score(y_test, xgb_pre))\n",
    "print(\"F1 Score For XGBClassifier Model is \", f1_score(y_test, xgb_pre))"
   ]
  },
  {
   "cell_type": "markdown",
   "id": "13741331",
   "metadata": {},
   "source": [
    "| Logistic Regression"
   ]
  },
  {
   "cell_type": "code",
   "execution_count": 22,
   "id": "59483145",
   "metadata": {},
   "outputs": [],
   "source": [
    "LR = LogisticRegression(random_state=0)\n",
    "LR.fit(X_train, y_train)\n",
    "LR_pre= LR.predict(X_test)"
   ]
  },
  {
   "cell_type": "code",
   "execution_count": 23,
   "id": "00711ec5",
   "metadata": {},
   "outputs": [
    {
     "name": "stdout",
     "output_type": "stream",
     "text": [
      "              precision    recall  f1-score   support\n",
      "\n",
      "           0       1.00      1.00      1.00     68788\n",
      "           1       0.82      0.56      0.67       128\n",
      "\n",
      "    accuracy                           1.00     68916\n",
      "   macro avg       0.91      0.78      0.83     68916\n",
      "weighted avg       1.00      1.00      1.00     68916\n",
      "\n",
      "Accuracy Score For Logistic Regression Model is  0.9989552498694062\n",
      "F1 Score For Logistic Regression Model is  0.6666666666666666\n"
     ]
    }
   ],
   "source": [
    "print(classification_report(y_test, LR_pre))\n",
    "print(\"Accuracy Score For Logistic Regression Model is \", accuracy_score(y_test, LR_pre))\n",
    "print(\"F1 Score For Logistic Regression Model is \", f1_score(y_test, LR_pre))"
   ]
  },
  {
   "cell_type": "markdown",
   "id": "2750584d",
   "metadata": {},
   "source": [
    "| K-Nearest Neighbors"
   ]
  },
  {
   "cell_type": "code",
   "execution_count": 24,
   "id": "60b26619",
   "metadata": {},
   "outputs": [],
   "source": [
    "knn = KNeighborsClassifier(n_neighbors=3)\n",
    "knn.fit(X_train, y_train)\n",
    "knn_pre = knn.predict(X_test)"
   ]
  },
  {
   "cell_type": "code",
   "execution_count": 25,
   "id": "5d527c56",
   "metadata": {},
   "outputs": [
    {
     "name": "stdout",
     "output_type": "stream",
     "text": [
      "              precision    recall  f1-score   support\n",
      "\n",
      "           0       1.00      1.00      1.00     68788\n",
      "           1       0.96      0.73      0.83       128\n",
      "\n",
      "    accuracy                           1.00     68916\n",
      "   macro avg       0.98      0.87      0.92     68916\n",
      "weighted avg       1.00      1.00      1.00     68916\n",
      "\n",
      "Accuracy Score For K-Nearest Neighbors Model is  0.9994486040977422\n",
      "F1 Score For K-Nearest Neighbors Model is  0.831858407079646\n",
      "Confusion matrix: [[68784     4]\n",
      " [   34    94]]\n"
     ]
    }
   ],
   "source": [
    "print(classification_report(y_test, knn_pre))\n",
    "print(\"Accuracy Score For K-Nearest Neighbors Model is \", accuracy_score(y_test, knn_pre))\n",
    "print(\"F1 Score For K-Nearest Neighbors Model is \", f1_score(y_test, knn_pre))\n",
    "print(\"Confusion matrix:\", confusion_matrix(y_test, knn_pre, labels=[0,1]))"
   ]
  },
  {
   "cell_type": "markdown",
   "id": "2fcb4508",
   "metadata": {},
   "source": [
    "### Conclusion\n",
    "So the conclusion is we recived 99.95% accurancy in our credit card fraud detection.<br>\n",
    "This number should not be surprising as our data was balanced towards one class.\n"
   ]
  },
  {
   "cell_type": "code",
   "execution_count": null,
   "id": "d9a06ea8",
   "metadata": {},
   "outputs": [],
   "source": []
  }
 ],
 "metadata": {
  "kernelspec": {
   "display_name": "Python 3",
   "language": "python",
   "name": "python3"
  },
  "language_info": {
   "codemirror_mode": {
    "name": "ipython",
    "version": 3
   },
   "file_extension": ".py",
   "mimetype": "text/x-python",
   "name": "python",
   "nbconvert_exporter": "python",
   "pygments_lexer": "ipython3",
   "version": "3.8.8"
  }
 },
 "nbformat": 4,
 "nbformat_minor": 5
}
